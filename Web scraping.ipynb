{
 "cells": [
  {
   "cell_type": "markdown",
   "metadata": {},
   "source": [
    "#Books to PDF\n",
    "##Wuxia World\n",
    "###Python implementation\n",
    "###Jupyter Notebook format\n",
    "\n",
    "The first website that I used, and still use, to read eastern fantasy!\n",
    "This is a personal learning and practical project that scrapes text from the site, and compiles it into an easy to read format for offline viewing. Made for long trips with no internet.\n",
    "\n",
    "[Wuxia World's ToS](https://www.wuxiaworld.com/page/terms-of-service \"Wuxia World's ToS\")\n",
    "Use License\n",
    "\n",
    "    Permission is granted to temporarily download one copy of the materials (information or software) on Wuxiaworld(™) for personal, non-commercial transitory viewing only. This is the grant of a license, not a transfer of title, and under this license you may not:\n",
    "        modify or copy the materials;\n",
    "        use the materials for any commercial purpose, or for any public display (commercial or non-commercial);\n",
    "        attempt to decompile or reverse engineer any software contained on Wuxiaworld’s web site;\n",
    "        remove any copyright or other proprietary notations from the materials; or\n",
    "        transfer the materials to another person or “mirror” the materials on any other server.\n",
    "    This license shall automatically terminate if you violate any of these restrictions and may be terminated by Wuxiaworld at any time. Upon terminating your viewing of these materials or upon the termination of this license, you must destroy any downloaded materials in your possession whether in electronic or printed format.\n",
    "\n",
    "Some packages needed\n",
    "pip install requests  \n",
    "pip install html5lib  \n",
    "pip install bs4  \n",
    "pip install pdfkit"
   ]
  },
  {
   "cell_type": "code",
   "execution_count": 1,
   "metadata": {
    "scrolled": true
   },
   "outputs": [
    {
     "name": "stdout",
     "output_type": "stream",
     "text": [
      "Enter index url: I don't want to enter a url\n",
      "Enter index url: https://www.wuxiaworld.com/novel/dragon-maken-war\n",
      "Dragon Maken War\n"
     ]
    }
   ],
   "source": [
    "#Having a PDF file with the same name already existing will result in an error. Delete old file if this happens.\n",
    "#If the content of the original website changes, code must be updated as well. Most likely the name variable.\n",
    "\n",
    "import requests\n",
    "import string\n",
    "import os\n",
    "import time #Time delay so host website doesn't get annoyed\n",
    "import pdfkit #OUTPUT TO PDF\n",
    "import re\n",
    "from bs4 import BeautifulSoup\n",
    "\n",
    "inputloop = False\n",
    "while(not inputloop):\n",
    "    index_url = input(\"Enter index url: \") #Assume correct index url.\n",
    "    inputloop = index_url.startswith('https://www.wuxiaworld.com/novel')\n",
    "\n",
    "title = index_url\n",
    "title = title.replace('https://www.wuxiaworld.com/novel/', \" \")\n",
    "title = title.replace('-', ' ')\n",
    "title = string.capwords(title)\n",
    "print(title)"
   ]
  },
  {
   "cell_type": "code",
   "execution_count": 3,
   "metadata": {},
   "outputs": [
    {
     "name": "stdout",
     "output_type": "stream",
     "text": [
      "Starting at /novel/dragon-maken-war/dmw-chapter-0 and ending at /novel/dragon-maken-war/dmw-chapter-266\n"
     ]
    }
   ],
   "source": [
    "i = requests.get(index_url)\n",
    "soup_index = BeautifulSoup(i.content, 'html5lib')\n",
    "\n",
    "font = r\"\"\"<body style=\"font-family: 'Times New Roman';font-size: 16px;\">\"\"\" #Customize font to whatever you like\n",
    "close = r\"</body>\"\n",
    "book = font\n",
    "chapter_links = []\n",
    "tags = soup_index.find_all(\"li\", class_=\"chapter-item\")\n",
    "for tag in tags:\n",
    "    chapter_links.extend(re.findall(r'\"(.+?)\"',str(tag.find(\"a\"))))\n",
    "print(\"Starting at \" + chapter_links[0] + \" and ending at \" + chapter_links[len(chapter_links)-1])"
   ]
  },
  {
   "cell_type": "code",
   "execution_count": 4,
   "metadata": {},
   "outputs": [
    {
     "name": "stdout",
     "output_type": "stream",
     "text": [
      "https://www.wuxiaworld.com/novel/dragon-maken-war/dmw-chapter-0 loading...\n",
      "\n",
      "https://www.wuxiaworld.com/novel/dragon-maken-war/dmw-chapter-1 loading...\n",
      "\n",
      "Loading pages (1/6)\n",
      "Counting pages (2/6)                                               \n",
      "Resolving links (4/6)                                                       \n",
      "Loading headers and footers (5/6)                                           \n",
      "Printing pages (6/6)\n",
      "Done                                                                      \n"
     ]
    },
    {
     "data": {
      "text/plain": [
       "True"
      ]
     },
     "execution_count": 4,
     "metadata": {},
     "output_type": "execute_result"
    }
   ],
   "source": [
    "#for chapter in chapter_links:\n",
    "for i in range(2): #2 chapters to prove it works\n",
    "    chapter = chapter_links[i] #debugging\n",
    "    url = \"https://www.wuxiaworld.com\" + chapter\n",
    "    print(url + \" loading...\\n\")\n",
    "    r = requests.get(url) \n",
    "    soup = BeautifulSoup(r.content, 'html5lib')\n",
    "    name = \"chapterContent\"\n",
    "    body = soup.find(\"div\", id=name)\n",
    "    if(body == None):\n",
    "        body = soup.find(\"div\", id=\"chapter-content\")\n",
    "        name = \"chapter-content\" #older books have a separate id name\n",
    "    text = body.encode(formatter=\"html5\").decode(\"utf-8\")\n",
    "    book = book + '<br>' + text\n",
    "    time.sleep(15) #Courtesy delay time, so website doesn't get annoyed\n",
    "book = book + close\n",
    "\n",
    "pattern = re.compile('<a.*?(\\/a>)', re.DOTALL) #Strip all the <a ... /a>\n",
    "book = re.sub(pattern, '', book)\n",
    "pdfkit.from_string(book, title + '.pdf')\n"
   ]
  },
  {
   "cell_type": "code",
   "execution_count": null,
   "metadata": {},
   "outputs": [],
   "source": []
  }
 ],
 "metadata": {
  "kernelspec": {
   "display_name": "Python 3",
   "language": "python",
   "name": "python3"
  },
  "language_info": {
   "codemirror_mode": {
    "name": "ipython",
    "version": 3
   },
   "file_extension": ".py",
   "mimetype": "text/x-python",
   "name": "python",
   "nbconvert_exporter": "python",
   "pygments_lexer": "ipython3",
   "version": "3.7.4"
  }
 },
 "nbformat": 4,
 "nbformat_minor": 2
}
